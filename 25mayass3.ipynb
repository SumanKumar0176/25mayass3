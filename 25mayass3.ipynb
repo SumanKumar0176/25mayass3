{
 "cells": [
  {
   "cell_type": "code",
   "execution_count": null,
   "id": "ee3f0f4e-ee48-4c32-bf28-e6f50422baa1",
   "metadata": {},
   "outputs": [],
   "source": [
    "1. Why are functions advantageous to have in your programs?\n",
    "Ans:\n",
    "Functions are advantageous to have in programs for several reasons:\n",
    "i.Modularity and Reusability:Functions allow you to break down your code into smaller, self-contained modules. \n",
    "ii.Code Organization:Functions help in organizing code by grouping related tasks together.\n",
    "iii.Abstraction: Functions provide an abstraction layer that allows you to hide complex implementation details.\n",
    "iv.Code Reusability and DRY Principle: Functions promote the \"Don't Repeat Yourself\" (DRY) principle.\n",
    "v.Readability and Maintainability: Functions improve the readability of code by providing meaningful names to encapsulate specific operations or tasks. \n",
    "vi.Testing and Debugging: Functions enable easier testing and debugging.\n",
    "vii.Scalability and Collaboration: Functions facilitate collaboration among developers working on the same project."
   ]
  },
  {
   "cell_type": "code",
   "execution_count": null,
   "id": "e575e2ac-5ab5-4e16-be73-98b44fc89662",
   "metadata": {},
   "outputs": [],
   "source": [
    "\n",
    "\n",
    "2. When does the code in a function run: when it's specified or when it's called?\n",
    "Ans:\n",
    "The code inside a function is not executed when the function is defined. The code inside a function is executed when the function is invoked.\n",
    " It is common to use the term \"call a function\" instead of \"invoke a function\".\n"
   ]
  },
  {
   "cell_type": "code",
   "execution_count": null,
   "id": "2e33b7eb-c58c-402d-9805-c6520f9bd63f",
   "metadata": {},
   "outputs": [],
   "source": [
    "\n",
    "\n",
    "3. What statement creates a function?\n",
    "Ans:\n",
    " Python, the statement used to create a function is called a \"function definition\" or a \"function declaration\". \n",
    "In Python specifically, the def statement is used to define a function.\n"
   ]
  },
  {
   "cell_type": "code",
   "execution_count": null,
   "id": "7756806a-d57a-4fe6-9c24-9191695eac9d",
   "metadata": {},
   "outputs": [],
   "source": [
    "\n",
    "\n",
    "\n",
    "4. What is the difference between a function and a function call?\n",
    "Ans:\n",
    "The difference between a function and a function call can be summarized as follows:\n",
    "\n",
    "i.Definition vs. Invocation: A function is a block of code that is defined or created with a specific name, parameters (if any), and a set of instructions\n",
    " to be executed when the function is called. On the other hand, a function call is the act of actually executing or invoking the function, causing\n",
    " the instructions inside the function to be executed.\n",
    "\n",
    "ii.Structure and Purpose: A function represents a reusable and modular piece of code that performs a specific task or set of tasks. It is defined \n",
    "to encapsulate functionality and can be used multiple times within a program. A function call, on the other hand, is the point in the program where \n",
    "the function is called, triggering the execution of the code inside the function.\n",
    "\n",
    "\n",
    "iii.Syntax: In most programming languages, including Python, a function is defined using the def keyword followed by the function name, parameter\n",
    " list (if any), and a colon. The function call, however, is simply the function name followed by parentheses, possibly containing the arguments or \n",
    "parameters to be passed to the function.\n",
    "\n",
    "iv.Action and Result: When a function is called, the code inside the function is executed, performing the specified operations or tasks. \n",
    "The function may also return a value or produce a desired effect. A function call, on the other hand, initiates the execution of the function, \n",
    "passing any required arguments and potentially receiving a return value or effect from the function.\n",
    "\n",
    "v.\n",
    "def greet(name):\n",
    "    print(\"Hello, \" + name + \"!\")\n",
    "\n",
    "greet(\"Alice\")  # Function call\n",
    "\n"
   ]
  },
  {
   "cell_type": "code",
   "execution_count": null,
   "id": "9767d506-b6f4-4f8c-9327-d364290ccda6",
   "metadata": {},
   "outputs": [],
   "source": [
    "\n",
    "\n",
    "\n",
    "5. How many global scopes are there in a Python program? How many local scopes?\n",
    "Ans:\n",
    "Global Scope: There is only one global scope in a Python program, which exists from the start of the program until its termination.\n",
    " Variables defined in the global scope are accessible throughout the program.\n",
    "\n",
    "Local Scopes: The number of local scopes in a Python program depends on the number of function definitions. Each function creates its own local scope,\n",
    " and variables defined within that scope are accessible only within that specific function."
   ]
  },
  {
   "cell_type": "code",
   "execution_count": null,
   "id": "d36fdbd8-c579-4a98-a7f5-399d386efa92",
   "metadata": {},
   "outputs": [],
   "source": [
    "\n",
    "\n",
    "6. What happens to variables in a local scope when the function call returns?\n",
    "Ans:\n",
    "\n",
    "happens to variables in a local scope when a function call returns:\n",
    "\n",
    "i.Variable Accessibility: Variables defined within the local scope of a function are only accessible within that function.\n",
    " They cannot be accessed from outside the function or in other parts of the program.\n",
    "\n",
    "ii.Scope Destruction: When the function call returns, the local scope of the function is destroyed. This includes any variables defined within that scope.\n",
    "\n",
    "iii.Memory Release: The memory allocated for the variables in the local scope is released, freeing up resources. This memory is \n",
    "now available for other parts of the program to use.\n",
    "\n",
    "iv.Variable Inaccessibility: Any attempt to access a variable that was defined within the local scope after the function call has returned will \n",
    "result in a NameError, indicating that the variable is not defined.\n",
    "\n"
   ]
  },
  {
   "cell_type": "code",
   "execution_count": null,
   "id": "fb32af1e-1239-4392-b935-62b30b4d3d27",
   "metadata": {},
   "outputs": [],
   "source": [
    "\n",
    "7. What is the concept of a return value? Is it possible to have a return value in an expression?\n",
    "Ans:\n",
    "\n",
    "The concept of a return value refers to the value that a function can send back to the caller or the code that invoked the function. \n",
    "When a function is executed, it may perform certain operations or calculations, and the return value is a way for the function to \n",
    "communicate and provide the result of those operations to the calling code.\n",
    "\n"
   ]
  },
  {
   "cell_type": "code",
   "execution_count": null,
   "id": "17a84f69-5d19-4b90-b9e2-0e3a871f5713",
   "metadata": {},
   "outputs": [],
   "source": [
    "\n",
    "\n",
    "\n",
    "8. If a function does not have a return statement, what is the return value of a call to that function?\n",
    "Ans:\n",
    "If a function does not have a return statement, the return value of a call to that function is None. In Python, None is a special \n",
    "object that represents the absence of a value. It is often used to indicate that a function does not explicitly return a value.\n",
    "\n",
    "When a function is executed without a return statement or with an empty return statement, Python automatically returns None as \n",
    "the default return value. This applies to functions where the execution flow reaches the end of the function without encountering \n",
    "a return statement, or when the function explicitly includes a return statement without any value specified.\n",
    "\n"
   ]
  },
  {
   "cell_type": "code",
   "execution_count": null,
   "id": "6deef137-3c32-4a67-a4b1-a5ee5786617b",
   "metadata": {},
   "outputs": [],
   "source": [
    "\n",
    "\n",
    "9. How do you make a function variable refer to the global variable?\n",
    "\n",
    "Ans:\n",
    "To make a function variable refer to the global variable in Python, you can use the global keyword within the function. \n",
    "By declaring a variable as global, you inform Python that the variable being used in the function should be the same as\n",
    " the global variable, rather than creating a new local variable with the same name.\n",
    "\n",
    "x = 10  # Global variable\n",
    "\n",
    "def use_global_variable():\n",
    "    global x  # Declare 'x' as a global variable\n",
    "    print(x)  # Access the global variable\n",
    "\n",
    "use_global_variable()  # Output: 10\n"
   ]
  },
  {
   "cell_type": "code",
   "execution_count": null,
   "id": "a18a0af6-e481-4c03-a930-f2a9c6aff93a",
   "metadata": {},
   "outputs": [],
   "source": [
    "\n",
    "\n",
    "\n",
    "10. What is the data type of None?\n",
    "Ans:\n",
    "\n",
    "In Python, the data type of None is called NoneType. It represents the absence of a value or the lack of a specific object. \n",
    "None is a built-in constant object that serves as a placeholder or default return value for functions that do not explicitly return anything.\n",
    "\n",
    "Here's an example demonstrating the data type of None:\n",
    "x = None\n",
    "print(type(x))  # Output: <class 'NoneType'>\n",
    "\n"
   ]
  },
  {
   "cell_type": "code",
   "execution_count": null,
   "id": "910ad721-f8f3-4528-ad81-b2172857c25f",
   "metadata": {},
   "outputs": [],
   "source": [
    "\n",
    "\n",
    "\n",
    "\n",
    "11. What does the sentence import areallyourpetsnamederic do?\n",
    "The sentence \"import areallyourpetsnamederic\" is not a valid Python import statement. In Python, the import keyword is\n",
    " used to import modules or packages into your code, allowing you to access their functionalities and variables.\n"
   ]
  },
  {
   "cell_type": "code",
   "execution_count": null,
   "id": "3b9c2311-6ff8-4547-a94c-47b10bcbe835",
   "metadata": {},
   "outputs": [],
   "source": [
    "\n",
    "12. If you had a bacon() feature in a spam module, what would you call it after importing spam?\n",
    "Ans:\n",
    "If you have a bacon() feature in a module called spam and you have imported the spam module, you can call the bacon() \n",
    "function using the syntax spam.bacon(). The dot (.) is used to access the functions or attributes within the imported module.\n",
    "import spam\n",
    "\n",
    "spam.bacon()  # Calling the bacon() function from the spam module\n"
   ]
  },
  {
   "cell_type": "code",
   "execution_count": null,
   "id": "507986bf-2006-47c1-9ef7-20cfa4d2cf36",
   "metadata": {},
   "outputs": [],
   "source": [
    "\n",
    "\n",
    "13. What can you do to save a programme from crashing if it encounters an error?\n",
    "Ans:\n",
    "To prevent a program from crashing when it encounters an error, you can implement error handling techniques. Error handling allows\n",
    " you to anticipate potential errors and gracefully handle them, allowing the program to continue execution rather than abruptly\n",
    " terminating. In Python, you can use the try-except statement to catch and handle exceptions.\n",
    "try:\n",
    "    # Code that may raise an error\n",
    "    # ...\n",
    "except ExceptionType:\n",
    "    # Code to handle the exception\n",
    "    # ...\n",
    "\n"
   ]
  },
  {
   "cell_type": "code",
   "execution_count": null,
   "id": "8b2ea2e3-a280-4876-abf4-7d333bff1b3e",
   "metadata": {},
   "outputs": [],
   "source": [
    "\n",
    "\n",
    "14. What is the purpose of the try clause? What is the purpose of the except clause?\n",
    "Ans:\n",
    "The try clause in Python is used to enclose a block of code that might raise an exception. Its purpose is to identify and isolate \n",
    "the specific area of code where an exception might occur. By using the try clause, you allow the program to attempt the execution of the code inside it.\n",
    "14. What is the purpose of the try clause? What is the purpose of the except clause?\n",
    "\n",
    "\n",
    "\n",
    "\n"
   ]
  },
  {
   "cell_type": "code",
   "execution_count": null,
   "id": "20cc456e-8cf6-4ea8-bd84-0eb3d90d654c",
   "metadata": {},
   "outputs": [],
   "source": []
  },
  {
   "cell_type": "code",
   "execution_count": null,
   "id": "c5e997d7-9f84-458b-b386-cc465f76fafe",
   "metadata": {},
   "outputs": [],
   "source": []
  }
 ],
 "metadata": {
  "kernelspec": {
   "display_name": "Python 3 (ipykernel)",
   "language": "python",
   "name": "python3"
  },
  "language_info": {
   "codemirror_mode": {
    "name": "ipython",
    "version": 3
   },
   "file_extension": ".py",
   "mimetype": "text/x-python",
   "name": "python",
   "nbconvert_exporter": "python",
   "pygments_lexer": "ipython3",
   "version": "3.10.6"
  }
 },
 "nbformat": 4,
 "nbformat_minor": 5
}
